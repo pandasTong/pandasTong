{
 "cells": [
  {
   "cell_type": "markdown",
   "metadata": {},
   "source": [
    "### Open-Close Principle\n",
    "### Liskov Substitution Principle"
   ]
  },
  {
   "cell_type": "code",
   "execution_count": 1,
   "metadata": {},
   "outputs": [],
   "source": [
    "# Normal\n",
    "class Car():\n",
    "    def __init__(self, brand: str, enginetype: str):\n",
    "        self.brand = brand\n",
    "        if enginetype == 'gas':\n",
    "            self.transmission = '6-speed'\n",
    "        else:\n",
    "            self.transmission = '1-speed'"
   ]
  },
  {
   "cell_type": "code",
   "execution_count": 2,
   "metadata": {},
   "outputs": [
    {
     "name": "stdout",
     "output_type": "stream",
     "text": [
      "6-speed\n",
      "bmw\n"
     ]
    }
   ],
   "source": [
    "car1 = Car('bmw', 'gas')\n",
    "print(car1.transmission)\n",
    "print(car1.brand)"
   ]
  },
  {
   "cell_type": "code",
   "execution_count": 3,
   "metadata": {},
   "outputs": [],
   "source": [
    "# Applied\n",
    "class Car():\n",
    "    def __init__(self, brand: str):\n",
    "        self.brand = brand\n",
    "\n",
    "class GasCar(Car):\n",
    "    def __init__(self, enginetype: str):\n",
    "        super().__init__('BMW')\n",
    "        self.transmission = '6-speed'\n",
    "\n",
    "class Electric(Car):\n",
    "    def __init__(self, enginetype: str):\n",
    "        super().__init__('Tesla')\n",
    "        self.transmission = '1-speed'"
   ]
  },
  {
   "cell_type": "code",
   "execution_count": 4,
   "metadata": {},
   "outputs": [
    {
     "name": "stdout",
     "output_type": "stream",
     "text": [
      "1-speed\n",
      "Tesla\n"
     ]
    }
   ],
   "source": [
    "car2 = Electric('EV')\n",
    "print(car2.transmission)\n",
    "print(car2.brand)"
   ]
  }
 ],
 "metadata": {
  "kernelspec": {
   "display_name": "Python 3.7.9 64-bit",
   "language": "python",
   "name": "python3"
  },
  "language_info": {
   "codemirror_mode": {
    "name": "ipython",
    "version": 3
   },
   "file_extension": ".py",
   "mimetype": "text/x-python",
   "name": "python",
   "nbconvert_exporter": "python",
   "pygments_lexer": "ipython3",
   "version": "3.7.9"
  },
  "orig_nbformat": 4,
  "vscode": {
   "interpreter": {
    "hash": "962021ce9b589dd8ed1abbce5aec6baac1202fb443728914d5953a29d6c2fa2d"
   }
  }
 },
 "nbformat": 4,
 "nbformat_minor": 2
}
